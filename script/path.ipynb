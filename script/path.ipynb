{
 "cells": [
  {
   "cell_type": "code",
   "execution_count": 1,
   "metadata": {},
   "outputs": [],
   "source": [
    "#!/usr/bin/env python3\n",
    "\n",
    "import numpy as np\n",
    "from move_base_msgs.msg import MoveBaseActionGoal, MoveBaseActionFeedback\n",
    "from sensor_msgs.msg import Imu\n",
    "from geometry_msgs.msg import PoseArray, Twist\n",
    "import actionlib"
   ]
  },
  {
   "cell_type": "code",
   "execution_count": null,
   "metadata": {},
   "outputs": [],
   "source": [
    "class position():\n",
    "    def __init__(self):\n",
    "        self.x = 0\n",
    "        self.y = 0\n",
    "        self.z = 0\n",
    "        self.ox = 0\n",
    "        self.oy = 0\n",
    "        self.oz = 0\n",
    "        self.ow = 0\n",
    "\n",
    "class imu_sample():\n",
    "    def __init__(self):\n",
    "        self.acc_x = None\n",
    "        self.acc_y = None\n",
    "        self.acc_z = None\n",
    "        self.gyro_x = None\n",
    "        self.gyro_y = None\n",
    "        self.gyro_z = None\n",
    "\n",
    "\n",
    "\n",
    "class path_MoRPI:\n",
    "    def __init__(self):\n",
    "        self.ground_truth_sub = rospy.Subscriber('/ground_truth', Odometry, self.ground_truth_position_callback)\n",
    "        self.imu_sub = rospy.Subscriber('/imu/inertial', Imu, self.imu_callback)\n",
    "        self.target_sub = rospy.Subscriber('/path', PoseArray, self.path_callback)\n",
    "        self.move_base_pub = rospy.Publisher('/husky_control/goal', MoveBaseGoal, queue_size=10)\n",
    "        self.imu_readings = np.array()\n",
    "\n",
    "    def ground_truth_position_callback(self, data):\n",
    "        self.position_husky.ox = data.pose.pose.orientation.x\n",
    "        self.position_husky.oy = data.pose.pose.orientation.y\n",
    "        self.position_husky.oz = data.pose.pose.orientation.z\n",
    "        self.position_husky.ow = data.pose.pose.orientation.w\n",
    "        self.position_husky.x = data.pose.pose.position.x\n",
    "        self.position_husky.y = data.pose.pose.position.y\n",
    "        self.position_husky.z = data.pose.pose.position.z\n",
    "    \n",
    "    def imu_callback(self, data):\n",
    "        imu_temp = imu_sample()\n",
    "        imu_temp.acc_x = data.linear_acceleration.x\n",
    "        imu_temp.acc_y = data.linear_acceleration.y\n",
    "        imu_temp.acc_z = data.linear_acceleration.z\n",
    "        imu_temp.gyro_x = data.angular_velocity.x\n",
    "        imu_temp.gyro_y = data.angular_velocity.y\n",
    "        imu_temp.gyro_z = data.angular_velocity.z\n",
    "        self.imu_readings = np.append(self.imu_readings, imu_temp)\n",
    "\n",
    "    def path_callback(self, data):\n",
    "        for i in data:\n",
    "            move_base_goal = MoveBaseGoal()\n",
    "            move_base_goal.target_pose.header.frame_id = 'map'\n",
    "            move_base_goal.target_pose.pose.position.x = i.position.x\n",
    "            move_base_goal.target_pose.pose.position.y = i.position.y\n",
    "            move_base_goal.target_pose.pose.position.z = i.position.z\n",
    "            move_base_goal.target_pose.pose.orientation.x = i.orientation.x\n",
    "            move_base_goal.target_pose.pose.orientation.y = i.orientation.y\n",
    "            move_base_goal.target_pose.pose.orientation.z = i.orientation.z\n",
    "            move_base_goal.target_pose.pose.orientation.w = i.orientation.w\n",
    "            self.move_base_pub.publish(move_base_goal)\n",
    "            rospy.sleep(1)\n",
    "\n",
    "\n",
    "    \n",
    "\n",
    "\n"
   ]
  }
 ],
 "metadata": {
  "kernelspec": {
   "display_name": "Python 3",
   "language": "python",
   "name": "python3"
  },
  "language_info": {
   "codemirror_mode": {
    "name": "ipython",
    "version": 3
   },
   "file_extension": ".py",
   "mimetype": "text/x-python",
   "name": "python",
   "nbconvert_exporter": "python",
   "pygments_lexer": "ipython3",
   "version": "3.6.9"
  },
  "orig_nbformat": 4,
  "vscode": {
   "interpreter": {
    "hash": "31f2aee4e71d21fbe5cf8b01ff0e069b9275f58929596ceb00d14d90e3e16cd6"
   }
  }
 },
 "nbformat": 4,
 "nbformat_minor": 2
}
