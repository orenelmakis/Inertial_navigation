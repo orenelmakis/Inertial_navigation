{
 "cells": [
  {
   "cell_type": "code",
   "execution_count": 2,
   "metadata": {},
   "outputs": [],
   "source": [
    "#!/usr/local/bin/python3\n",
    "import rospy\n",
    "from geometry_msgs.msg import PoseArray, Twist\n",
    "from nav_msgs.msg import Odometry\n",
    "import actionlib\n",
    "from move_base_msgs.msg import MoveBaseAction, MoveBaseGoal\n",
    "import numpy as np\n",
    "from scipy.spatial.transform import Rotation as R"
   ]
  },
  {
   "cell_type": "code",
   "execution_count": 3,
   "metadata": {},
   "outputs": [],
   "source": [
    "class position():\n",
    "    def __init__(self):\n",
    "        self.x = 0\n",
    "        self.y = 0\n",
    "        self.z = 0\n",
    "        self.ox = 0\n",
    "        self.oy = 0\n",
    "        self.oz = 0\n",
    "        self.ow = 0\n",
    "\n",
    "\n",
    "class husky_control:\n",
    "    def __init__(self):\n",
    "        self.ground_truth_sub = rospy.Subscriber('/ground_truth', Odometry, self.ground_truth_position_callback)\n",
    "        self.vel_control_pub = rospy.Publisher('/cmd_vel', Twist, queue_size=10)\n",
    "        self.actionLib_server = actionlib.SimpleActionServer('husky_control', MoveBaseAction, self.actionLib_callback, False)\n",
    "        self.position = position()\n",
    "\n",
    "    def ground_truth_position_callback(self, data):\n",
    "        self.position = data.pose.pose.position\n",
    "        self.position.ox = data.pose.pose.orientation.x\n",
    "        self.position.oy = data.pose.pose.orientation.y\n",
    "        self.position.oz = data.pose.pose.orientation.z\n",
    "        self.position.ow = data.pose.pose.orientation.w\n",
    "        self.position.x = data.pose.pose.position.x\n",
    "        self.position.y = data.pose.pose.position.y\n",
    "        self.position.z = data.pose.pose.position.z\n",
    "\n",
    "    def actionLib_callback(self, goal):\n",
    "        vel_msg = Twist()\n",
    "        while not self.arrived_at_goal(goal):\n",
    "            vel_msg.linear.x = np.linalg.norm(np.array([self.position.x, self.position.y]) - np.array([goal.target_pose.pose.position.x, goal.target_pose.pose.position.y]))\n",
    "            R = R.from_quat([self.position.ox, self.position.oy, self.position.oz, self.position.ow])\n",
    "            yaw, _, _ = R.as_euler('zyx')\n",
    "            vel_msg.angular.z = np.arctan2(goal.target_pose.pose.position.y - self.position.y, goal.target_pose.pose.position.x - self.position.x) - yaw\n",
    "            self.vel_control_pub.publish(vel_msg)\n",
    "\n",
    "\n",
    "    \n",
    "    def arrived_at_goal(self, goal):\n",
    "        if np.linalg.norm(np.array([self.position.x, self.position.y]) - np.array([goal.target_pose.pose.position.x, goal.target_pose.pose.position.y])) < 0.1:\n",
    "            return True\n",
    "        else:\n",
    "            return False\n",
    "\n",
    "        "
   ]
  },
  {
   "cell_type": "code",
   "execution_count": null,
   "metadata": {},
   "outputs": [],
   "source": [
    "\n",
    "def main():\n",
    "    rospy.init_node('husky_control', anonymous=True)\n",
    "    husky = husky_control()\n",
    "    rospy.spin()\n",
    "\n",
    "\n",
    "\n",
    "if __name__ == '__main__':\n",
    "    try:\n",
    "        main()\n",
    "    except rospy.ROSInterruptException:\n",
    "        pass"
   ]
  }
 ],
 "metadata": {
  "kernelspec": {
   "display_name": "Python 3",
   "language": "python",
   "name": "python3"
  },
  "language_info": {
   "codemirror_mode": {
    "name": "ipython",
    "version": 3
   },
   "file_extension": ".py",
   "mimetype": "text/x-python",
   "name": "python",
   "nbconvert_exporter": "python",
   "pygments_lexer": "ipython3",
   "version": "3.6.9"
  },
  "orig_nbformat": 4,
  "vscode": {
   "interpreter": {
    "hash": "31f2aee4e71d21fbe5cf8b01ff0e069b9275f58929596ceb00d14d90e3e16cd6"
   }
  }
 },
 "nbformat": 4,
 "nbformat_minor": 2
}
